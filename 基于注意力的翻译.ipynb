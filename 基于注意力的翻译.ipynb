{
 "cells": [
  {
   "cell_type": "code",
   "execution_count": 1,
   "metadata": {},
   "outputs": [
    {
     "name": "stdout",
     "output_type": "stream",
     "text": [
      "1.12.0\n"
     ]
    }
   ],
   "source": [
    "from __future__ import absolute_import, division, print_function\n",
    "\n",
    "# 使用 CPU，不使用GPU\n",
    "import os\n",
    "os.environ[\"CUDA_DEVICE_ORDER\"] = \"PCI_BUS_ID\"  \n",
    "os.environ[\"CUDA_VISIBLE_DEVICES\"] = \"-1\"\n",
    "\n",
    "# 导入 tensorflow >=1.10 和 使用 eager execution\n",
    "# eager execution: 提供了 命令高级操作接口，通过自动微分编写自定义层、前向传播和训练循环\n",
    "import tensorflow as tf\n",
    "tf.enable_eager_execution()\n",
    "\n",
    "import matplotlib.pyplot as plt\n",
    "from sklearn.model_selection import train_test_split\n",
    "\n",
    "import unicodedata\n",
    "import re\n",
    "import numpy as np\n",
    "import os\n",
    "import time\n",
    "\n",
    "print(tf.__version__)"
   ]
  },
  {
   "cell_type": "code",
   "execution_count": 2,
   "metadata": {},
   "outputs": [],
   "source": [
    "# 下载预训练数据集\n",
    "path_to_zip = tf.keras.utils.get_file(\n",
    "    'spa-eng.zip', origin='http://download.tensorflow.org/data/spa-eng.zip', \n",
    "    extract=True)\n",
    "path_to_file = os.path.dirname(path_to_zip)+\"/spa-eng/spa.txt\""
   ]
  },
  {
   "cell_type": "code",
   "execution_count": 3,
   "metadata": {},
   "outputs": [],
   "source": [
    "# 转换unicode 文件为 ascii\n",
    "# unicodedata.normalize() 第一个参数指定字符串标准化的方式。 \n",
    "# NFC表示字符应该是整体组成(比如可能的话就使用单一编码)，而NFD表示字符应该分解为多个组合字符表示\n",
    "# unicodedata.category(c): 分配给字符c的常规类别为字符串。\n",
    "def unicode_to_ascii(s):\n",
    "    return ''.join(c for c in unicodedata.normalize('NFD', s) if unicodedata.category(c) != 'Mn')\n",
    "\n",
    "\n",
    "# 预处理句子,删除空白字符\n",
    "def preprocess_sentence(w):\n",
    "    w = unicode_to_ascii(w.lower().strip())\n",
    "    \n",
    "    # creating a space between a word and the punctuation following it\n",
    "    # eg: \"he is a boy.\" => \"he is a boy .\" \n",
    "    # Reference:- https://stackoverflow.com/questions/3645931/python-padding-punctuation-with-white-spaces-keeping-punctuation\n",
    "    w = re.sub(r\"([?.!,¿])\", r\" \\1 \", w)\n",
    "    w = re.sub(r'[\" \"]+', \" \", w)\n",
    "    \n",
    "    # replacing everything with space except (a-z, A-Z, \".\", \"?\", \"!\", \",\")\n",
    "    w = re.sub(r\"[^a-zA-Z?.!,¿]+\", \" \", w)\n",
    "    \n",
    "    w = w.rstrip().strip()\n",
    "    \n",
    "    # adding a start and an end token to the sentence\n",
    "    # so that the model know when to start and stop predicting.\n",
    "    w = '<start> ' + w + ' <end>'\n",
    "    return w"
   ]
  },
  {
   "cell_type": "code",
   "execution_count": 4,
   "metadata": {},
   "outputs": [],
   "source": [
    "def create_dataset(path, num_examples):\n",
    "    lines = open(path, encoding = 'utf-8').read().strip().split('\\n')\n",
    "    \n",
    "    word_pairs = [[preprocess_sentence(w) for w in l.split('\\t')] for l in lines[:num_examples]]\n",
    "    return word_pairs"
   ]
  },
  {
   "cell_type": "code",
   "execution_count": 5,
   "metadata": {},
   "outputs": [],
   "source": [
    "class LanguageIndex():\n",
    "    def __init__(self, lang):\n",
    "        self.lang = lang\n",
    "        self.word2idx = {}\n",
    "        self.idx2word = {}\n",
    "        self.vocab = set()\n",
    "        \n",
    "        self.create_index(), \n",
    "\n",
    "    # 创建语言对应索引数值，方便检索\n",
    "    def create_index(self):\n",
    "        for phrase in self.lang:\n",
    "            self.vocab.update(phrase.split(' '))\n",
    "        self.vocab = sorted(self.vocab)\n",
    "        \n",
    "        self.word2idx['pad'] = 0\n",
    "        for index, word in enumerate(self.vocab):\n",
    "            self.word2idx[word] = index + 1\n",
    "        \n",
    "        for word, index in self.word2idx.items():\n",
    "            self.idx2word[index] = word\n",
    "        "
   ]
  },
  {
   "cell_type": "code",
   "execution_count": 6,
   "metadata": {},
   "outputs": [],
   "source": [
    "# 提取最大的张量值\n",
    "def max_length(tensor):\n",
    "    return max(len(t) for t in tensor)"
   ]
  },
  {
   "cell_type": "code",
   "execution_count": 7,
   "metadata": {},
   "outputs": [],
   "source": [
    "# 加载数据集\n",
    "def load_dataset(path, num_examples):\n",
    "    pairs = create_dataset(path, num_examples)\n",
    "    print(pairs)\n",
    "    # 建立索引\n",
    "    inp_lang = LanguageIndex(sp for en, sp in pairs)\n",
    "    targ_lang = LanguageIndex(en for en, sp in pairs)\n",
    "    \n",
    "    # 否量化输入和目标语言\n",
    "    # 西班牙语\n",
    "    input_tensor = [[inp_lang.word2idx[s] for s in sp.split(' ')] for en, sp in pairs]\n",
    "    # 英语\n",
    "    target_tensor = [[targ_lang.word2idx[s] for s in en.split(' ')] for en, sp in pairs]\n",
    "    \n",
    "    # 计算最大的输入和目标值\n",
    "    max_length_inp, max_length_targ = max_length(input_tensor), max_length(target_tensor)\n",
    "    \n",
    "    # 填充输入和目标值张量最大值\n",
    "    input_tensor = tf.keras.preprocessing.sequence.pad_sequences(input_tensor, \n",
    "                                                                 maxlen=max_length_inp,\n",
    "                                                                 padding='post')\n",
    "    \n",
    "    target_tensor = tf.keras.preprocessing.sequence.pad_sequences(target_tensor,\n",
    "                                                                 maxlen=max_length_targ,\n",
    "                                                                 padding='post')\n",
    "    \n",
    "    return input_tensor, target_tensor, inp_lang, targ_lang, max_length_inp, max_length_targ"
   ]
  },
  {
   "cell_type": "code",
   "execution_count": 8,
   "metadata": {},
   "outputs": [
    {
     "name": "stdout",
     "output_type": "stream",
     "text": [
      "[['<start> go . <end>', '<start> ve . <end>'], ['<start> go . <end>', '<start> vete . <end>'], ['<start> go . <end>', '<start> vaya . <end>'], ['<start> go . <end>', '<start> vayase . <end>'], ['<start> hi . <end>', '<start> hola . <end>'], ['<start> run ! <end>', '<start> corre ! <end>'], ['<start> run . <end>', '<start> corred . <end>'], ['<start> who ? <end>', '<start> ¿ quien ? <end>'], ['<start> fire ! <end>', '<start> fuego ! <end>'], ['<start> fire ! <end>', '<start> incendio ! <end>'], ['<start> fire ! <end>', '<start> disparad ! <end>'], ['<start> help ! <end>', '<start> ayuda ! <end>'], ['<start> help ! <end>', '<start> socorro ! auxilio ! <end>'], ['<start> help ! <end>', '<start> auxilio ! <end>'], ['<start> jump ! <end>', '<start> salta ! <end>'], ['<start> jump . <end>', '<start> salte . <end>'], ['<start> stop ! <end>', '<start> parad ! <end>'], ['<start> stop ! <end>', '<start> para ! <end>'], ['<start> stop ! <end>', '<start> pare ! <end>'], ['<start> wait ! <end>', '<start> espera ! <end>'], ['<start> wait . <end>', '<start> esperen . <end>'], ['<start> go on . <end>', '<start> continua . <end>'], ['<start> go on . <end>', '<start> continue . <end>'], ['<start> hello ! <end>', '<start> hola . <end>'], ['<start> i ran . <end>', '<start> corri . <end>'], ['<start> i ran . <end>', '<start> corria . <end>'], ['<start> i try . <end>', '<start> lo intento . <end>'], ['<start> i won ! <end>', '<start> he ganado ! <end>'], ['<start> oh no ! <end>', '<start> oh , no ! <end>'], ['<start> relax . <end>', '<start> tomatelo con soda . <end>'], ['<start> smile . <end>', '<start> sonrie . <end>'], ['<start> attack ! <end>', '<start> al ataque ! <end>'], ['<start> attack ! <end>', '<start> atacad ! <end>'], ['<start> get up . <end>', '<start> levanta . <end>'], ['<start> go now . <end>', '<start> ve ahora mismo . <end>'], ['<start> got it ! <end>', '<start> lo tengo ! <end>'], ['<start> got it ? <end>', '<start> ¿ lo pillas ? <end>'], ['<start> got it ? <end>', '<start> ¿ entendiste ? <end>'], ['<start> he ran . <end>', '<start> el corrio . <end>'], ['<start> hop in . <end>', '<start> metete adentro . <end>'], ['<start> hug me . <end>', '<start> abrazame . <end>'], ['<start> i fell . <end>', '<start> me cai . <end>'], ['<start> i know . <end>', '<start> yo lo se . <end>'], ['<start> i left . <end>', '<start> sali . <end>'], ['<start> i lied . <end>', '<start> menti . <end>'], ['<start> i lost . <end>', '<start> perdi . <end>'], ['<start> i quit . <end>', '<start> dimito . <end>'], ['<start> i quit . <end>', '<start> renuncie . <end>'], ['<start> i work . <end>', '<start> estoy trabajando . <end>'], ['<start> i m . <end>', '<start> tengo diecinueve . <end>'], ['<start> i m up . <end>', '<start> estoy levantado . <end>'], ['<start> listen . <end>', '<start> escucha . <end>'], ['<start> listen . <end>', '<start> escuche . <end>'], ['<start> listen . <end>', '<start> escuchen . <end>'], ['<start> no way ! <end>', '<start> no puede ser ! <end>'], ['<start> no way ! <end>', '<start> de ninguna manera . <end>'], ['<start> no way ! <end>', '<start> de ninguna manera ! <end>'], ['<start> no way ! <end>', '<start> imposible ! <end>'], ['<start> no way ! <end>', '<start> de ningun modo ! <end>'], ['<start> no way ! <end>', '<start> de eso nada ! <end>'], ['<start> no way ! <end>', '<start> ni cagando ! <end>'], ['<start> no way ! <end>', '<start> mangos ! <end>'], ['<start> no way ! <end>', '<start> minga ! <end>'], ['<start> no way ! <end>', '<start> ni en pedo ! <end>'], ['<start> really ? <end>', '<start> ¿ en serio ? <end>'], ['<start> really ? <end>', '<start> ¿ la verdad ? <end>'], ['<start> thanks . <end>', '<start> gracias ! <end>'], ['<start> thanks . <end>', '<start> gracias . <end>'], ['<start> try it . <end>', '<start> pruebalo . <end>'], ['<start> we try . <end>', '<start> lo procuramos . <end>'], ['<start> we won . <end>', '<start> ganamos . <end>'], ['<start> why me ? <end>', '<start> ¿ por que yo ? <end>'], ['<start> ask tom . <end>', '<start> preguntale a tom . <end>'], ['<start> awesome ! <end>', '<start> orale ! <end>'], ['<start> be calm . <end>', '<start> mantente en calma . <end>'], ['<start> be cool . <end>', '<start> estate tranquilo . <end>'], ['<start> be fair . <end>', '<start> se justo . <end>'], ['<start> be kind . <end>', '<start> sean gentiles . <end>'], ['<start> be nice . <end>', '<start> se agradable . <end>'], ['<start> beat it . <end>', '<start> pirate . <end>'], ['<start> call me . <end>', '<start> llamame . <end>'], ['<start> call me . <end>', '<start> llamadme . <end>'], ['<start> call me . <end>', '<start> llamame . <end>'], ['<start> call us . <end>', '<start> llamanos . <end>'], ['<start> come in . <end>', '<start> entre . <end>'], ['<start> come in . <end>', '<start> pase . <end>'], ['<start> come in . <end>', '<start> entren ! <end>'], ['<start> come on ! <end>', '<start> orale ! <end>'], ['<start> come on . <end>', '<start> andale . <end>'], ['<start> come on . <end>', '<start> orale ! <end>'], ['<start> drop it ! <end>', '<start> sueltalo . <end>'], ['<start> get tom . <end>', '<start> agarra a tom . <end>'], ['<start> get out ! <end>', '<start> bajate . <end>'], ['<start> get out . <end>', '<start> salte . <end>'], ['<start> get out . <end>', '<start> sal . <end>'], ['<start> get out . <end>', '<start> sali . <end>'], ['<start> get out . <end>', '<start> salid . <end>'], ['<start> get out . <end>', '<start> salgan . <end>'], ['<start> go away ! <end>', '<start> vete de aqui ! <end>'], ['<start> go away ! <end>', '<start> largate ! <end>'], ['<start> go away ! <end>', '<start> salga de aqui ! <end>'], ['<start> go away ! <end>', '<start> largo ! <end>'], ['<start> go away ! <end>', '<start> vete ya ! <end>'], ['<start> go away ! <end>', '<start> orale ! <end>'], ['<start> go away ! <end>', '<start> a la calle ! <end>'], ['<start> go away . <end>', '<start> vete de aqui ! <end>'], ['<start> go away . <end>', '<start> largate ! <end>'], ['<start> go away . <end>', '<start> largo ! <end>'], ['<start> go away . <end>', '<start> vete ya ! <end>'], ['<start> go away . <end>', '<start> orale ! <end>'], ['<start> go away . <end>', '<start> larguese . <end>'], ['<start> go away . <end>', '<start> vayase . <end>'], ['<start> go home . <end>', '<start> vete a casa . <end>'], ['<start> go slow . <end>', '<start> vaya despacio . <end>'], ['<start> goodbye ! <end>', '<start> hasta luego ! <end>'], ['<start> goodbye ! <end>', '<start> hasta la vista . <end>'], ['<start> goodbye ! <end>', '<start> chau ! <end>'], ['<start> hang on ! <end>', '<start> espera ! <end>'], ['<start> hang on ! <end>', '<start> espera un momento ! <end>'], ['<start> hang on ! <end>', '<start> un segundo ! <end>'], ['<start> hang on . <end>', '<start> agarra fuertemente . <end>'], ['<start> he came . <end>', '<start> el vino . <end>'], ['<start> he quit . <end>', '<start> el renuncio . <end>'], ['<start> help me ! <end>', '<start> ayudame . <end>'], ['<start> help me . <end>', '<start> ayudame . <end>'], ['<start> help me . <end>', '<start> echame una mano . <end>'], ['<start> help me . <end>', '<start> ayudame . <end>'], ['<start> help us . <end>', '<start> ayudanos . <end>'], ['<start> hit tom . <end>', '<start> golpea a tom . <end>'], ['<start> hold it ! <end>', '<start> espera . <end>'], ['<start> hold on . <end>', '<start> resista . <end>'], ['<start> hold on . <end>', '<start> resiste . <end>'], ['<start> hold on . <end>', '<start> agarra fuertemente . <end>'], ['<start> hug tom . <end>', '<start> abraza a tom . <end>'], ['<start> i agree . <end>', '<start> estoy de acuerdo . <end>'], ['<start> i agree . <end>', '<start> de acuerdo . <end>'], ['<start> i bowed . <end>', '<start> me incline . <end>'], ['<start> i moved . <end>', '<start> me he mudado . <end>'], ['<start> i moved . <end>', '<start> me mude . <end>'], ['<start> i moved . <end>', '<start> me traslade . <end>'], ['<start> i moved . <end>', '<start> me he trasladado . <end>'], ['<start> i slept . <end>', '<start> dormi . <end>'], ['<start> i tried . <end>', '<start> lo intente . <end>'], ['<start> i ll go . <end>', '<start> ire . <end>'], ['<start> i m tom . <end>', '<start> soy tom . <end>'], ['<start> i m fat . <end>', '<start> estoy gordo . <end>'], ['<start> i m fat . <end>', '<start> soy gorda . <end>'], ['<start> i m fit . <end>', '<start> estoy en forma . <end>'], ['<start> i m hit ! <end>', '<start> estoy afectado . <end>'], ['<start> i m old . <end>', '<start> soy viejo . <end>'], ['<start> i m shy . <end>', '<start> soy timido . <end>'], ['<start> i m wet . <end>', '<start> estoy mojada . <end>'], ['<start> it s ok . <end>', '<start> esta bien . <end>'], ['<start> it s me ! <end>', '<start> soy yo . <end>'], ['<start> it s me . <end>', '<start> soy yo . <end>'], ['<start> join us . <end>', '<start> unete a nosotros . <end>'], ['<start> join us . <end>', '<start> se parte nuestra . <end>'], ['<start> keep it . <end>', '<start> guardalo . <end>'], ['<start> me , too . <end>', '<start> yo , tambien . <end>'], ['<start> open up . <end>', '<start> abre . <end>'], ['<start> perfect ! <end>', '<start> perfecto ! <end>'], ['<start> see you . <end>', '<start> nos vemos . <end>'], ['<start> show me . <end>', '<start> muestramelo . <end>'], ['<start> show me . <end>', '<start> ensenamelo . <end>'], ['<start> show me . <end>', '<start> mostrame . <end>'], ['<start> shut up ! <end>', '<start> cierra la boca ! <end>'], ['<start> shut up ! <end>', '<start> cerra el pico ! <end>'], ['<start> skip it . <end>', '<start> saltatelo . <end>'], ['<start> so long . <end>', '<start> hasta la vista . <end>'], ['<start> so long . <end>', '<start> hasta luego . <end>'], ['<start> stop it . <end>', '<start> paralo . <end>'], ['<start> stop it . <end>', '<start> detenlo . <end>'], ['<start> take it . <end>', '<start> cogelo . <end>'], ['<start> tell me . <end>', '<start> decime . <end>'], ['<start> tom ate . <end>', '<start> tom comio . <end>'], ['<start> tom ran . <end>', '<start> tom corrio . <end>'], ['<start> tom won . <end>', '<start> tom gano . <end>'], ['<start> wait up . <end>', '<start> esperame despierto . <end>'], ['<start> wake up ! <end>', '<start> despierta ! <end>'], ['<start> wake up ! <end>', '<start> despiertate ! <end>'], ['<start> wake up ! <end>', '<start> despertate ! <end>'], ['<start> wake up . <end>', '<start> despierta . <end>'], ['<start> wash up . <end>', '<start> lavate las manos . <end>'], ['<start> we care . <end>', '<start> nos preocupamos . <end>'], ['<start> we know . <end>', '<start> lo sabemos . <end>'], ['<start> we lost . <end>', '<start> perdimos . <end>'], ['<start> welcome . <end>', '<start> bienvenidos . <end>'], ['<start> welcome . <end>', '<start> bienvenidas . <end>'], ['<start> who ate ? <end>', '<start> ¿ quien comio ? <end>'], ['<start> who ran ? <end>', '<start> ¿ quien corria ? <end>'], ['<start> who ran ? <end>', '<start> ¿ quien corrio ? <end>'], ['<start> who won ? <end>', '<start> ¿ quien gano ? <end>'], ['<start> who won ? <end>', '<start> ¿ quien ha ganado ? <end>'], ['<start> why not ? <end>', '<start> ¿ por que no ? <end>'], ['<start> you run . <end>', '<start> corre . <end>'], ['<start> you won . <end>', '<start> has ganado . <end>'], ['<start> am i fat ? <end>', '<start> ¿ estoy gordo ? <end>'], ['<start> ask them . <end>', '<start> preguntales . <end>'], ['<start> ask them . <end>', '<start> preguntales . <end>'], ['<start> back off ! <end>', '<start> aparta . <end>'], ['<start> back off . <end>', '<start> apartate . <end>'], ['<start> be a man . <end>', '<start> se un hombre . <end>'], ['<start> be brave . <end>', '<start> se fuerte . <end>'], ['<start> be brief . <end>', '<start> se breve . <end>'], ['<start> be brief . <end>', '<start> sea breve . <end>'], ['<start> be brief . <end>', '<start> sean breves . <end>'], ['<start> be quiet . <end>', '<start> estate quieto . <end>'], ['<start> be still . <end>', '<start> no te muevas . <end>'], ['<start> call tom . <end>', '<start> llamalo a tomas ! <end>'], ['<start> call tom . <end>', '<start> llamalo a tomas ! <end>'], ['<start> call tom . <end>', '<start> llamenlo a tomas ! <end>'], ['<start> cheer up ! <end>', '<start> animate . <end>'], ['<start> cheer up . <end>', '<start> venga . <end>'], ['<start> cool off ! <end>', '<start> calmate ! <end>'], ['<start> cuff him . <end>', '<start> esposale . <end>'], ['<start> don t go . <end>', '<start> no te vayas . <end>'], ['<start> drive on . <end>', '<start> continua . <end>'], ['<start> find tom . <end>', '<start> encontralo a tomas . <end>'], ['<start> find tom . <end>', '<start> encuentralo a tomas . <end>'], ['<start> find tom . <end>', '<start> encuentrelo a tomas . <end>'], ['<start> find tom . <end>', '<start> encuentrenlo a tomas . <end>'], ['<start> find tom . <end>', '<start> encuentre a tom . <end>'], ['<start> find tom . <end>', '<start> encuentren a tom . <end>'], ['<start> fix this . <end>', '<start> arregla esto . <end>'], ['<start> get away ! <end>', '<start> vete de aqui ! <end>'], ['<start> get away ! <end>', '<start> largate ! <end>'], ['<start> get away ! <end>', '<start> largo ! <end>'], ['<start> get away ! <end>', '<start> vete ya ! <end>'], ['<start> get down ! <end>', '<start> ponte a ello . <end>'], ['<start> get down . <end>', '<start> abajo . <end>'], ['<start> get down . <end>', '<start> tumbate . <end>'], ['<start> get lost ! <end>', '<start> pierdete ! <end>'], ['<start> get lost ! <end>', '<start> vete de aqui ! <end>'], ['<start> get lost ! <end>', '<start> largate ! <end>'], ['<start> get lost ! <end>', '<start> largo ! <end>'], ['<start> get lost ! <end>', '<start> vete ya ! <end>'], ['<start> get lost . <end>', '<start> esfumate . <end>'], ['<start> get real ! <end>', '<start> despierta ! <end>'], ['<start> get real ! <end>', '<start> piensalo bien ! <end>'], ['<start> get real . <end>', '<start> abre los ojos . <end>'], ['<start> go ahead ! <end>', '<start> adelante . <end>'], ['<start> go ahead . <end>', '<start> adelante . <end>'], ['<start> go on in . <end>', '<start> entre . <end>'], ['<start> go on in . <end>', '<start> entra . <end>'], ['<start> go on in . <end>', '<start> entren . <end>'], ['<start> go on in . <end>', '<start> entra . <end>'], ['<start> go on in . <end>', '<start> entrad . <end>'], ['<start> good job ! <end>', '<start> buen trabajo ! <end>'], ['<start> grab tom . <end>', '<start> sujeta a tom . <end>'], ['<start> grab him . <end>', '<start> agarralo . <end>'], ['<start> have fun . <end>', '<start> diviertanse . <end>'], ['<start> have fun . <end>', '<start> pasala bien . <end>'], ['<start> have fun . <end>', '<start> pasenla bien . <end>'], ['<start> he spoke . <end>', '<start> el hablo . <end>'], ['<start> he tries . <end>', '<start> el lo intenta . <end>'], ['<start> he tries . <end>', '<start> el prueba . <end>'], ['<start> help tom . <end>', '<start> ayuda a tom . <end>'], ['<start> help him . <end>', '<start> ayudalo . <end>'], ['<start> hi , guys . <end>', '<start> hola , ¿ que hay ? <end>'], ['<start> hi , guys . <end>', '<start> ey , chavales . <end>'], ['<start> hi , guys . <end>', '<start> ¿ que pasa , troncos ? <end>'], ['<start> hi , guys . <end>', '<start> buenas . <end>'], ['<start> hi , guys . <end>', '<start> ¿ que tal os va ? <end>'], ['<start> hi , guys . <end>', '<start> hola por aqui . <end>'], ['<start> how cute ! <end>', '<start> que encanto ! <end>'], ['<start> how deep ? <end>', '<start> ¿ que tan profundo ? <end>'], ['<start> how deep ? <end>', '<start> ¿ como de profundo ? <end>'], ['<start> humor me . <end>', '<start> hazme el favor . <end>'], ['<start> humor me . <end>', '<start> complaceme . <end>'], ['<start> hurry up . <end>', '<start> date prisa ! <end>'], ['<start> hurry up . <end>', '<start> apresurate . <end>'], ['<start> i agreed . <end>', '<start> convine . <end>'], ['<start> i agreed . <end>', '<start> acepte . <end>'], ['<start> i agreed . <end>', '<start> accedi . <end>'], ['<start> i am fat . <end>', '<start> soy gorda . <end>'], ['<start> i am old . <end>', '<start> estoy viejo . <end>'], ['<start> i ate it . <end>', '<start> me lo comi . <end>'], ['<start> i ate it . <end>', '<start> me la comi . <end>'], ['<start> i can go . <end>', '<start> puedo ir . <end>'], ['<start> i did ok . <end>', '<start> lo hice bien . <end>'], ['<start> i did it . <end>', '<start> lo hice . <end>'], ['<start> i failed . <end>', '<start> fracase . <end>'], ['<start> i forgot . <end>', '<start> lo olvide . <end>'], ['<start> i get by . <end>', '<start> me las arreglo . <end>'], ['<start> i get it . <end>', '<start> lo entiendo . <end>'], ['<start> i got it . <end>', '<start> lo tengo . <end>'], ['<start> i phoned . <end>', '<start> llame por telefono . <end>'], ['<start> i refuse . <end>', '<start> me niego . <end>'], ['<start> i resign . <end>', '<start> dimito . <end>'], ['<start> i resign . <end>', '<start> renuncio . <end>'], ['<start> i saw it . <end>', '<start> lo vi . <end>'], ['<start> i smiled . <end>', '<start> sonrei . <end>'], ['<start> i stayed . <end>', '<start> me quede . <end>'], ['<start> i talked . <end>', '<start> hable . <end>'], ['<start> i talked . <end>', '<start> hablaba . <end>'], ['<start> i talked . <end>', '<start> charle . <end>'], ['<start> i talked . <end>', '<start> charlaba . <end>'], ['<start> i use it . <end>', '<start> yo lo uso . <end>'], ['<start> i waited . <end>', '<start> espere . <end>'], ['<start> i ll pay . <end>', '<start> yo pagare . <end>'], ['<start> i m back . <end>', '<start> he vuelto . <end>'], ['<start> i m back . <end>', '<start> estoy de vuelta . <end>'], ['<start> i m bald . <end>', '<start> soy calvo . <end>'], ['<start> i m bald . <end>', '<start> estoy calvo . <end>'], ['<start> i m calm . <end>', '<start> estoy calmado . <end>'], ['<start> i m cool . <end>', '<start> estoy tranquilo . <end>'], ['<start> i m done . <end>', '<start> he terminado . <end>'], ['<start> i m easy . <end>', '<start> soy bastante facilon . <end>'], ['<start> i m fair . <end>', '<start> soy justo . <end>'], ['<start> i m fine . <end>', '<start> estoy perfectamente . <end>'], ['<start> i m free ! <end>', '<start> soy libre ! <end>'], ['<start> i m free . <end>', '<start> yo soy libre . <end>'], ['<start> i m full . <end>', '<start> estoy lleno . <end>'], ['<start> i m full . <end>', '<start> estoy llena . <end>'], ['<start> i m full . <end>', '<start> ya me llene . <end>'], ['<start> i m here . <end>', '<start> estoy aqui . <end>'], ['<start> i m home . <end>', '<start> estoy en casa . <end>'], ['<start> i m hurt . <end>', '<start> estoy herido . <end>'], ['<start> i m late . <end>', '<start> llego tarde . <end>'], ['<start> i m lazy . <end>', '<start> soy vago . <end>'], ['<start> i m lost . <end>', '<start> estoy perdida . <end>'], ['<start> i m mean . <end>', '<start> soy malo . <end>'], ['<start> i m next . <end>', '<start> me toca a mi . <end>'], ['<start> i m okay . <end>', '<start> estoy perfectamente . <end>'], ['<start> i m poor . <end>', '<start> soy pobre . <end>'], ['<start> i m rich . <end>', '<start> soy rica . <end>'], ['<start> i m rich . <end>', '<start> soy rico . <end>'], ['<start> i m safe . <end>', '<start> estoy a salvo . <end>'], ['<start> i m sick . <end>', '<start> estoy enferma . <end>'], ['<start> i m thin . <end>', '<start> soy delgado . <end>'], ['<start> i m tidy . <end>', '<start> estoy limpio . <end>'], ['<start> i m warm . <end>', '<start> estoy calentito . <end>'], ['<start> i m weak . <end>', '<start> estoy debil . <end>'], ['<start> i m wise . <end>', '<start> soy listo . <end>'], ['<start> i ve won . <end>', '<start> gane . <end>'], ['<start> it helps . <end>', '<start> eso ayuda . <end>'], ['<start> it hurts . <end>', '<start> duele . <end>'], ['<start> it works . <end>', '<start> funciona . <end>'], ['<start> it s tom . <end>', '<start> es tom . <end>'], ['<start> it s fun . <end>', '<start> es divertido . <end>'], ['<start> it s his . <end>', '<start> es suyo . <end>'], ['<start> it s new . <end>', '<start> es nuevo . <end>'], ['<start> it s odd . <end>', '<start> es extrano . <end>'], ['<start> it s old . <end>', '<start> es viejo . <end>'], ['<start> it s red . <end>', '<start> es rojo . <end>'], ['<start> it s sad . <end>', '<start> es triste . <end>'], ['<start> keep out ! <end>', '<start> prohibido pasar . <end>'], ['<start> keep out . <end>', '<start> no entrar . <end>'], ['<start> kiss tom . <end>', '<start> besa a tomas . <end>'], ['<start> kiss tom . <end>', '<start> besa a tomas . <end>'], ['<start> kiss tom . <end>', '<start> besen a tomas . <end>'], ['<start> leave it . <end>', '<start> dejalo . <end>'], ['<start> leave me . <end>', '<start> dejame . <end>'], ['<start> leave us . <end>', '<start> dejanos . <end>'], ['<start> let s go ! <end>', '<start> vamos . <end>'], ['<start> let s go ! <end>', '<start> orale ! <end>'], ['<start> look out ! <end>', '<start> cuidado . <end>'], ['<start> marry me . <end>', '<start> casate conmigo . <end>'], ['<start> may i go ? <end>', '<start> ¿ puedo ir ? <end>'], ['<start> save tom . <end>', '<start> salva a tom . <end>'], ['<start> she came . <end>', '<start> ella vino . <end>'], ['<start> she died . <end>', '<start> ella murio . <end>'], ['<start> she runs . <end>', '<start> ella corre . <end>'], ['<start> sit down ! <end>', '<start> sentate ! <end>'], ['<start> sit down . <end>', '<start> sientate . <end>'], ['<start> sit here . <end>', '<start> sientate aqui . <end>'], ['<start> speak up ! <end>', '<start> hable mas fuerte ! <end>'], ['<start> speak up ! <end>', '<start> habla mas fuerte . <end>'], ['<start> speak up ! <end>', '<start> habla mas alto ! <end>'], ['<start> stand by . <end>', '<start> preparate . <end>'], ['<start> stand by . <end>', '<start> un momento . <end>'], ['<start> stand up ! <end>', '<start> parate ! <end>'], ['<start> stand up ! <end>', '<start> de pie ! <end>'], ['<start> stay put . <end>', '<start> no te muevas . <end>'], ['<start> stop tom . <end>', '<start> deten a tom . <end>'], ['<start> take tom . <end>', '<start> llevate a tom . <end>'], ['<start> tell tom . <end>', '<start> diselo a tom . <end>'], ['<start> terrific ! <end>', '<start> genial ! <end>'], ['<start> terrific ! <end>', '<start> orale ! <end>'], ['<start> they won . <end>', '<start> ellos ganaron . <end>'], ['<start> tom came . <end>', '<start> tom vino . <end>'], ['<start> tom died . <end>', '<start> tom ha muerto . <end>'], ['<start> tom fell . <end>', '<start> tom se cayo . <end>'], ['<start> tom knew . <end>', '<start> tom lo sabia . <end>'], ['<start> tom knew . <end>', '<start> tom tenia constancia de ello . <end>'], ['<start> tom left . <end>', '<start> tom se fue . <end>'], ['<start> tom lied . <end>', '<start> tom mintio . <end>'], ['<start> tom lies . <end>', '<start> tomas miente . <end>'], ['<start> tom lost . <end>', '<start> tom perdio . <end>'], ['<start> tom paid . <end>', '<start> tom pago . <end>'], ['<start> tom quit . <end>', '<start> tom renuncio . <end>'], ['<start> tom swam . <end>', '<start> tom nado . <end>'], ['<start> tom wept . <end>', '<start> tom lloro . <end>'], ['<start> tom s up . <end>', '<start> tom se ha levantado . <end>'], ['<start> too late . <end>', '<start> demasiado tarde . <end>'], ['<start> trust me . <end>', '<start> confia en mi . <end>'], ['<start> try hard . <end>', '<start> intentalo de veras . <end>'], ['<start> try some . <end>', '<start> prueba un poco . <end>'], ['<start> try some . <end>', '<start> pruebe un poco . <end>'], ['<start> try some . <end>', '<start> prueben un poco . <end>'], ['<start> try this . <end>', '<start> prueben esto . <end>'], ['<start> try this . <end>', '<start> proba esto . <end>'], ['<start> try this . <end>', '<start> prueba esto . <end>'], ['<start> use this . <end>', '<start> usa esto . <end>'], ['<start> warn tom . <end>', '<start> avisale a tom . <end>'], ['<start> warn tom . <end>', '<start> avisele a tom . <end>'], ['<start> warn tom . <end>', '<start> avisenle a tom . <end>'], ['<start> warn tom . <end>', '<start> avisale a tom . <end>'], ['<start> watch me . <end>', '<start> mirame . <end>'], ['<start> watch me . <end>', '<start> vigilame . <end>'], ['<start> watch me . <end>', '<start> observame . <end>'], ['<start> watch us . <end>', '<start> observalos . <end>'], ['<start> watch us . <end>', '<start> observanos . <end>'], ['<start> we agree . <end>', '<start> estamos de acuerdo . <end>'], ['<start> we tried . <end>', '<start> lo intentamos . <end>'], ['<start> we ll go . <end>', '<start> iremos . <end>'], ['<start> we re ok . <end>', '<start> estamos bien . <end>'], ['<start> what for ? <end>', '<start> ¿ para que ? <end>'], ['<start> what fun ! <end>', '<start> que divertido ! <end>'], ['<start> who am i ? <end>', '<start> ¿ quien soy yo ? <end>'], ['<start> who came ? <end>', '<start> ¿ quien vino ? <end>'], ['<start> who died ? <end>', '<start> ¿ quien murio ? <end>'], ['<start> who fell ? <end>', '<start> ¿ quien se callo ? <end>'], ['<start> who fell ? <end>', '<start> ¿ quien se cayo ? <end>'], ['<start> who quit ? <end>', '<start> ¿ quien se ha ido ? <end>'], ['<start> who quit ? <end>', '<start> ¿ quien lo ha dejado ? <end>'], ['<start> who swam ? <end>', '<start> ¿ quien nado ? <end>'], ['<start> who s he ? <end>', '<start> ¿ quien es el ? <end>'], ['<start> write me . <end>', '<start> escribeme . <end>'], ['<start> after you . <end>', '<start> despues de ti . <end>'], ['<start> after you . <end>', '<start> tu primero . <end>'], ['<start> after you . <end>', '<start> usted primero . <end>'], ['<start> after you . <end>', '<start> despues de usted . <end>'], ['<start> after you . <end>', '<start> despues de vosotras . <end>'], ['<start> aim . fire ! <end>', '<start> apunta . fuego ! <end>'], ['<start> answer me . <end>', '<start> respondeme . <end>'], ['<start> answer me . <end>', '<start> respondedme . <end>'], ['<start> answer me . <end>', '<start> respondanme . <end>'], ['<start> birds fly . <end>', '<start> los pajaros vuelan . <end>'], ['<start> bless you . <end>', '<start> jesus . <end>'], ['<start> call home ! <end>', '<start> llama a casa ! <end>'], ['<start> calm down . <end>', '<start> calmate . <end>'], ['<start> calm down . <end>', '<start> tranquilizate . <end>'], ['<start> calm down . <end>', '<start> tomatelo con soda . <end>'], ['<start> calm down . <end>', '<start> baja un cambio . <end>'], ['<start> can we go ? <end>', '<start> ¿ podemos ir ? <end>'], ['<start> can we go ? <end>', '<start> ¿ podemos irnos ? <end>'], ['<start> can we go ? <end>', '<start> ¿ podemos marcharnos ? <end>'], ['<start> catch tom . <end>', '<start> atrapelo a tomas ! <end>'], ['<start> catch him . <end>', '<start> capturalo . <end>'], ['<start> catch him . <end>', '<start> capturenlo . <end>'], ['<start> catch him . <end>', '<start> atrapenlo . <end>'], ['<start> catch him . <end>', '<start> atrapalo . <end>'], ['<start> come back . <end>', '<start> vuelve . <end>'], ['<start> come here . <end>', '<start> veni . <end>'], ['<start> come here . <end>', '<start> ven . <end>'], ['<start> come here . <end>', '<start> venid aqui . <end>'], ['<start> come home . <end>', '<start> ven a casa . <end>'], ['<start> come over . <end>', '<start> venid aqui . <end>'], ['<start> come over . <end>', '<start> vente . <end>'], ['<start> come over . <end>', '<start> venios . <end>'], ['<start> come over . <end>', '<start> venga aqui . <end>'], ['<start> come soon . <end>', '<start> vuelve pronto . <end>'], ['<start> do it now . <end>', '<start> hazlo ahora . <end>'], ['<start> dogs bark . <end>', '<start> los perros ladran . <end>'], ['<start> don t ask . <end>', '<start> no preguntes . <end>'], ['<start> don t cry . <end>', '<start> no llores . <end>'], ['<start> don t cry . <end>', '<start> no llores ! <end>'], ['<start> don t cry . <end>', '<start> no llores ! <end>'], ['<start> don t cry . <end>', '<start> no lloren . <end>'], ['<start> don t lie . <end>', '<start> no mintais . <end>'], ['<start> don t run . <end>', '<start> no corras . <end>'], ['<start> fantastic ! <end>', '<start> fantastico ! <end>'], ['<start> fantastic ! <end>', '<start> es estupendo ! <end>'], ['<start> fantastic ! <end>', '<start> orale ! <end>'], ['<start> feel this . <end>', '<start> tienta esto . <end>'], ['<start> feel this . <end>', '<start> tiente esto . <end>'], ['<start> feel this . <end>', '<start> tienten esto . <end>'], ['<start> feel this . <end>', '<start> tentad esto . <end>'], ['<start> feel this . <end>', '<start> tenta esto . <end>'], ['<start> follow me . <end>', '<start> sigueme . <end>'], ['<start> follow me . <end>', '<start> seguidme . <end>'], ['<start> follow us . <end>', '<start> siguenos . <end>'], ['<start> forget it . <end>', '<start> dejalo . <end>'], ['<start> forget me . <end>', '<start> olvidame . <end>'], ['<start> forget me . <end>', '<start> olvidate de mi . <end>'], ['<start> forget me . <end>', '<start> olvidenme . <end>'], ['<start> forget me . <end>', '<start> olvidense de mi . <end>'], ['<start> get ready . <end>', '<start> preparaos . <end>'], ['<start> go for it . <end>', '<start> ve a por ello . <end>'], ['<start> go for it . <end>', '<start> ve a cogerlo . <end>'], ['<start> go get it . <end>', '<start> ve a por ello . <end>'], ['<start> go get it . <end>', '<start> vete a por ello . <end>'], ['<start> go get it . <end>', '<start> id a por ello . <end>'], ['<start> go inside . <end>', '<start> entra . <end>'], ['<start> go to bed . <end>', '<start> vete a la cama . <end>'], ['<start> grab that . <end>', '<start> cogelo . <end>'], ['<start> grab this . <end>', '<start> agarra esto . <end>'], ['<start> have some . <end>', '<start> coge alguno . <end>'], ['<start> have some . <end>', '<start> toma algo . <end>']]\n"
     ]
    }
   ],
   "source": [
    "# 限制数量，数量太多对> 100,000个句子的完整数据集进行培训需要很长时间。\n",
    "# 为了更快地训练，我们可以将数据集的大小限制为30,000个句子（当然，翻译质量会随着数据的减少而降低）：\n",
    "num_examples = 500\n",
    "input_tensor, target_tensor, inp_lang, targ_lang, max_length_inp, max_length_targ = load_dataset(path_to_file, num_examples)"
   ]
  },
  {
   "cell_type": "code",
   "execution_count": 9,
   "metadata": {},
   "outputs": [],
   "source": [
    "#print(input_tensor)\n",
    "#print(inp_lang)"
   ]
  },
  {
   "cell_type": "code",
   "execution_count": 10,
   "metadata": {},
   "outputs": [
    {
     "data": {
      "text/plain": [
       "(400, 100, 400, 100)"
      ]
     },
     "execution_count": 10,
     "metadata": {},
     "output_type": "execute_result"
    }
   ],
   "source": [
    "# 创建数据集分为训练集和验证集比例 8:2\n",
    "input_tensor_train, input_tensor_val, target_tensor_train, target_tensor_val = train_test_split(input_tensor, target_tensor, test_size = 0.2)\n",
    "\n",
    "# 显示长度\n",
    "len(input_tensor_train), len(input_tensor_val), len(target_tensor_train), len(target_tensor_val)"
   ]
  },
  {
   "cell_type": "code",
   "execution_count": 11,
   "metadata": {},
   "outputs": [
    {
     "name": "stdout",
     "output_type": "stream",
     "text": [
      "<BatchDataset shapes: ((64, 8), (64, 6)), types: (tf.int32, tf.int32)>\n"
     ]
    }
   ],
   "source": [
    "# tf.data 数据集\n",
    "BUFFER_SIZE = len(input_tensor_train)\n",
    "BATCH_SIZE = 64\n",
    "N_BATCH = BUFFER_SIZE / BATCH_SIZE\n",
    "embedding_dim = 256\n",
    "units = 1024\n",
    "vocab_inp_size = len(inp_lang.word2idx)\n",
    "vocab_tar_size = len(targ_lang.word2idx)\n",
    "\n",
    "# 把数据集随机分片处理\n",
    "dataset = tf.data.Dataset.from_tensor_slices((input_tensor_train, target_tensor_train)).shuffle(BUFFER_SIZE)\n",
    "dataset = dataset.batch(BATCH_SIZE, drop_remainder=True)\n",
    "print(dataset)"
   ]
  },
  {
   "cell_type": "code",
   "execution_count": 12,
   "metadata": {},
   "outputs": [],
   "source": [
    "def gru(units):\n",
    "    return tf.keras.layers.GRU(units,\n",
    "                              return_sequences=True,\n",
    "                              return_state=True,\n",
    "                              recurrent_activation='sigmoid',\n",
    "                              recurrent_initializer='glorot_uniform')"
   ]
  },
  {
   "cell_type": "code",
   "execution_count": 21,
   "metadata": {},
   "outputs": [],
   "source": [
    "class Encoder(tf.keras.Model):\n",
    "    def __init__(self, vocab_size, embedding_dim, dec_units, batch_size):\n",
    "        super(Encoder, self).__init__()\n",
    "        self.batch_sz = batch_size\n",
    "        self.dec_units = dec_units\n",
    "        self.embedding = tf.keras.layers.Embedding(vocab_size, embedding_dim)\n",
    "        self.gru = gru(self.dec_units)\n",
    "\n",
    "    def call(self, x, hidden):\n",
    "        x = self.embedding(x)\n",
    "        output, state = self.gru(x, initial_state=hidden)\n",
    "    def initialize_hidden_state(self):\n",
    "        return tf.zeros((self.batch_sz, self.enc_units))"
   ]
  },
  {
   "cell_type": "code",
   "execution_count": 33,
   "metadata": {},
   "outputs": [],
   "source": [
    "class Decoder(tf.keras.Model):\n",
    "    def __init__(self, vocab_size, embedding_dim, dec_units, batch_size):\n",
    "        super(Decoder, self).__init__()\n",
    "        self.batch_sz = batch_size\n",
    "        self.dec_units = dec_units\n",
    "        self.embedding = tf.keras.layers.Embedding(vocab_size, embedding_dim)\n",
    "        self.gru = gru(self.dec_units)\n",
    "        \n",
    "        self.fc = tf.keras.layers.Dense(vocab_size)\n",
    "        \n",
    "        self.W1 = tf.keras.layers.Dense(self.dec_units)\n",
    "        self.W2 = tf.keras.layers.Dense(self.dec_units)\n",
    "        self.V = tf.keras.layers.Dense(1)\n",
    "        \n",
    "    def call(self, x, hiddend, enc_output):\n",
    "        # enc_output shape == (batch_size, max_length, hidden_size)\n",
    "        # hiddend shape ==(batch_size, hidden_size)\n",
    "        # 将尺寸1插入张量的形状,比如 shape [2] 插入后为 [2, 1]\n",
    "        print(hidden)\n",
    "        hidden_with_time_axis = tf.expand_dims(hidden, 1)\n",
    "        print(hidden_with_time_axis)\n",
    "        \n",
    "        # score shape == (batch_size, max_length, 1)\n",
    "        # 使用激活函数 tanh(FC(EO) + FC(H)) \n",
    "        score = self.V(tf.nn.tanh(self.W1(enc_output) + self.W2(hidden_with_time_axis)))\n",
    "        \n",
    "        # attention_weights shape == (batch_size, max_length, 1)\n",
    "        attention_weights = tf.nn.softmax(score, axis=1)\n",
    "        \n",
    "        # 文本词向量\n",
    "        context_vector = attention_weights * enc_output\n",
    "        context_vector = tf.reduce_sum(context_vector, axis=1)\n",
    "        \n",
    "        # x shape after passing through embedding == (batch_size, 1, embedding_dim)\n",
    "        x = self.embedding(x)\n",
    "        # x shape after concatenation == (batch_size, 1, embedding_dim + hidden_size)\n",
    "        x = tf.concat([tf.expand_dims(context_vector, 1), x], axis=-1)\n",
    "        \n",
    "        #将连接的向量传递给GRU\n",
    "        ouput, state = self.gru(x)\n",
    "        \n",
    "        # output shape == (batch_size * 1, hidden_size)\n",
    "        output = tf.reshape(output, (-1, output.shape[2]))\n",
    "        \n",
    "        # output shape == (batch_size * 1, vocab)\n",
    "        x = self.fc(output)\n",
    "        \n",
    "        return x, state, attention_weights\n",
    "        \n",
    "    # 初始化\n",
    "    def initialize_hidden_state(self):\n",
    "        return tf.zeros((self.batch_sz, self.dec_units))     "
   ]
  },
  {
   "cell_type": "code",
   "execution_count": 34,
   "metadata": {},
   "outputs": [],
   "source": [
    "encoder = Encoder(vocab_inp_size, embedding_dim, units, BATCH_SIZE)\n",
    "decoder = Decoder(vocab_tar_size, embedding_dim, units, BATCH_SIZE)"
   ]
  },
  {
   "cell_type": "code",
   "execution_count": null,
   "metadata": {},
   "outputs": [],
   "source": []
  }
 ],
 "metadata": {
  "kernelspec": {
   "display_name": "Python 3",
   "language": "python",
   "name": "python3"
  },
  "language_info": {
   "codemirror_mode": {
    "name": "ipython",
    "version": 3
   },
   "file_extension": ".py",
   "mimetype": "text/x-python",
   "name": "python",
   "nbconvert_exporter": "python",
   "pygments_lexer": "ipython3",
   "version": "3.6.7"
  }
 },
 "nbformat": 4,
 "nbformat_minor": 2
}
